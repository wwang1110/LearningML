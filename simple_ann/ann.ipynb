{
 "cells": [
  {
   "cell_type": "code",
   "execution_count": 1,
   "metadata": {},
   "outputs": [],
   "source": [
    "import torch\n",
    "import pandas as pd\n",
    "import matplotlib.pyplot as plt\n",
    "from sklearn.model_selection import train_test_split\n",
    "%matplotlib inline "
   ]
  },
  {
   "cell_type": "code",
   "execution_count": 2,
   "metadata": {},
   "outputs": [],
   "source": [
    "#load data set\n",
    "df = pd.read_csv('data/iris.csv')\n",
    "features = df.drop('variety', axis=1).values\n",
    "targets = [0 if v=='Setosa' else (1 if v=='Virginica' else 2) for v in df['variety']]\n",
    "x_train,x_test,y_train,y_test = train_test_split(features, targets, test_size=0.2)\n",
    "\n",
    "x_train = torch.Tensor(x_train)\n",
    "x_test = torch.Tensor(x_test)\n",
    "y_train = torch.LongTensor(y_train).reshape(-1)\n",
    "y_test = torch.LongTensor(y_test).reshape(-1)"
   ]
  },
  {
   "cell_type": "code",
   "execution_count": null,
   "metadata": {},
   "outputs": [],
   "source": [
    "#plot the features\n",
    "fig, axes = plt.subplots(nrows=2, ncols=2, figsize=(10, 7))\n",
    "fig.tight_layout()\n",
    "\n",
    "plots = [(0, 1), (2, 3), (0, 2), (1, 3)]\n",
    "colors = ['b', 'r', 'g']\n",
    "labels = ['Setosa', 'Virginica', 'Versicolor']\n",
    "\n",
    "for i, ax in enumerate(axes.flat):\n",
    "    for k in range(3):\n",
    "        x = df.columns[plots[i][0]]\n",
    "        y = df.columns[plots[i][1]]\n",
    "        ax.scatter(df[df['variety']==labels[k]][x], df[df['variety']==labels[k]][y], color=colors[k], label=labels[k])\n",
    "        ax.set(xlabel=x, ylabel=y)\n",
    "\n",
    "fig.legend(labels=labels, loc=3, bbox_to_anchor=(1.0,0.85))\n",
    "plt.show()"
   ]
  },
  {
   "cell_type": "code",
   "execution_count": 3,
   "metadata": {},
   "outputs": [],
   "source": [
    "#neural network model\n",
    "\n",
    "import torch.nn as nn\n",
    "import torch.nn.functional as F\n",
    "\n",
    "class Model(nn.Module):\n",
    "    def __init__(self, in_features=4, h1=8, h2=9, out_features=3):\n",
    "        super().__init__()\n",
    "        # Input Layer (4 featrues) --> h1 N --> h2 N --> output (3 classses)\n",
    "        self.fc1 = nn.Linear(in_features, h1)\n",
    "        self.fc2 = nn.Linear(h1, h2)\n",
    "        self.out = nn.Linear(h2, out_features)\n",
    "\n",
    "    def forward(self, x):       #[n,4]\n",
    "        x = F.relu(self.fc1(x)) #[n,8]\n",
    "        x = F.relu(self.fc2(x)) #[n,9]\n",
    "        x = self.out(x)         #[n,3]\n",
    "\n",
    "        return x"
   ]
  },
  {
   "cell_type": "code",
   "execution_count": null,
   "metadata": {},
   "outputs": [
    {
     "name": "stdout",
     "output_type": "stream",
     "text": [
      "Epoch 0 and loss is: 1.1394617557525635\n",
      "Epoch 10 and loss is: 0.8928519487380981\n"
     ]
    }
   ],
   "source": [
    "#train neural network model\n",
    "torch.manual_seed(32)\n",
    "model = Model()\n",
    "criterion = nn.CrossEntropyLoss()\n",
    "optimizer = torch.optim.Adam(model.parameters(), lr=0.01)\n",
    "\n",
    "epochs = 100\n",
    "losses = []\n",
    "\n",
    "for i in range(epochs):\n",
    "    y_pred = model.forward(x_train)\n",
    "    loss = criterion(y_pred, y_train)\n",
    "    losses.append(loss.detach())\n",
    "\n",
    "    if i%10==0:\n",
    "        print(f'Epoch {i} and loss is: {loss}')\n",
    "    \n",
    "    optimizer.zero_grad()\n",
    "    loss.backward()\n",
    "    optimizer.step()\n"
   ]
  },
  {
   "cell_type": "code",
   "execution_count": 7,
   "metadata": {},
   "outputs": [
    {
     "data": {
      "text/plain": [
       "Text(0.5, 0, 'EPOCH')"
      ]
     },
     "execution_count": 7,
     "metadata": {},
     "output_type": "execute_result"
    },
    {
     "data": {
      "image/png": "[encoded data removed]",
      "text/plain": [
       "<Figure size 640x480 with 1 Axes>"
      ]
     },
     "metadata": {},
     "output_type": "display_data"
    }
   ],
   "source": [
    "plt.plot(range(epochs), losses)\n",
    "plt.ylabel('LOSS')\n",
    "plt.xlabel('EPOCH')"
   ]
  },
  {
   "cell_type": "code",
   "execution_count": 7,
   "metadata": {},
   "outputs": [
    {
     "name": "stdout",
     "output_type": "stream",
     "text": [
      "tensor(0.1512)\n"
     ]
    }
   ],
   "source": [
    "#eval neural network model\n",
    "with torch.no_grad():\n",
    "    y_eval = model.forward(x_test)\n",
    "    loss = criterion(y_eval, y_test)\n",
    "    print(loss)"
   ]
  },
  {
   "cell_type": "code",
   "execution_count": null,
   "metadata": {},
   "outputs": [],
   "source": [
    "with torch.no_grad():\n",
    "    for i, data in enumerate(x_test):\n",
    "        y_val = model.forward(data)\n",
    "        print(f'{i} y_val={y_val} y_test={y_test[i]}')"
   ]
  },
  {
   "cell_type": "code",
   "execution_count": 9,
   "metadata": {},
   "outputs": [],
   "source": [
    "#save model \n",
    "torch.save(model.state_dict(), 'iris_model.pt')"
   ]
  },
  {
   "cell_type": "code",
   "execution_count": 10,
   "metadata": {},
   "outputs": [
    {
     "data": {
      "text/plain": [
       "Model(\n",
       "  (fc1): Linear(in_features=4, out_features=8, bias=True)\n",
       "  (fc2): Linear(in_features=8, out_features=9, bias=True)\n",
       "  (out): Linear(in_features=9, out_features=3, bias=True)\n",
       ")"
      ]
     },
     "execution_count": 10,
     "metadata": {},
     "output_type": "execute_result"
    }
   ],
   "source": [
    "#load model\n",
    "new_model = Model()\n",
    "new_model.load_state_dict(torch.load('iris_model.pt'))\n",
    "new_model"
   ]
  }
 ],
 "metadata": {
  "kernelspec": {
   "display_name": "gpu",
   "language": "python",
   "name": "python3"
  },
  "language_info": {
   "codemirror_mode": {
    "name": "ipython",
    "version": 3
   },
   "file_extension": ".py",
   "mimetype": "text/x-python",
   "name": "python",
   "nbconvert_exporter": "python",
   "pygments_lexer": "ipython3",
   "version": "3.9.13"
  },
  "orig_nbformat": 4,
  "vscode": {
   "interpreter": {
    "hash": "6e864e8c2ac431d98c93e106bd2a7ee27c1c5fcda32595c61032bf5b2911b702"
   }
  }
 },
 "nbformat": 4,
 "nbformat_minor": 2
}
