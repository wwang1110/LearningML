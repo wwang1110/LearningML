{
 "cells": [
  {
   "cell_type": "code",
   "execution_count": 1,
   "metadata": {},
   "outputs": [
    {
     "name": "stderr",
     "output_type": "stream",
     "text": [
      "c:\\Python\\Python311\\Lib\\site-packages\\tqdm\\auto.py:21: TqdmWarning: IProgress not found. Please update jupyter and ipywidgets. See https://ipywidgets.readthedocs.io/en/stable/user_install.html\n",
      "  from .autonotebook import tqdm as notebook_tqdm\n"
     ]
    }
   ],
   "source": [
    "import os\n",
    "from PIL import Image as PILImage\n",
    "from tqdm import tqdm\n",
    "from IPython.display import display\n",
    "from datasets import Dataset, Features, Image, Value, ClassLabel"
   ]
  },
  {
   "cell_type": "code",
   "execution_count": 2,
   "metadata": {},
   "outputs": [],
   "source": [
    "raw_data_path = 'D:/Adams/dataset/CUB_200_2011_CAP'\n",
    "save_dir = 'D:/Adams/dataset/parquets/'"
   ]
  },
  {
   "cell_type": "code",
   "execution_count": 3,
   "metadata": {},
   "outputs": [],
   "source": [
    "def raw_data_gen(raw_data_path):\n",
    "    for img_file in tqdm(os.listdir(raw_data_path)):\n",
    "        if img_file.endswith(\".png\") or img_file.endswith(\".jpg\"):\n",
    "            metadata_file = img_file.replace(\".png\", \".txt\").replace(\".jpg\", \".txt\")\n",
    "            if os.path.exists(os.path.join(raw_data_path, metadata_file)):\n",
    "                action_id = img_file.replace(\".png\", \"\").replace(\".jpg\", \"\")\n",
    "                wds = action_id.split(\"_\")[:-2]\n",
    "                label = ' '.join(wds)\n",
    "                img = PILImage.open(os.path.join(raw_data_path, img_file))\n",
    "                with open(os.path.join(raw_data_path, metadata_file), 'r') as f:\n",
    "                    caption = f.read().replace('\\n', '')\n",
    "                yield {'image':img, 'text':caption, 'label':label}"
   ]
  },
  {
   "cell_type": "code",
   "execution_count": 4,
   "metadata": {},
   "outputs": [],
   "source": [
    "features = Features({\n",
    "    'image': Image(),\n",
    "    'text': Value('string'),\n",
    "    'label': Value('string'),\n",
    "})\n",
    "ds = Dataset.from_generator(lambda: raw_data_gen(raw_data_path), features=features)"
   ]
  },
  {
   "cell_type": "code",
   "execution_count": 5,
   "metadata": {},
   "outputs": [
    {
     "data": {
      "text/plain": [
       "Dataset({\n",
       "    features: ['image', 'caption', 'label'],\n",
       "    num_rows: 11787\n",
       "})"
      ]
     },
     "execution_count": 5,
     "metadata": {},
     "output_type": "execute_result"
    }
   ],
   "source": [
    "ds.class_encode_column(\"label\")"
   ]
  },
  {
   "cell_type": "code",
   "execution_count": 7,
   "metadata": {},
   "outputs": [
    {
     "name": "stderr",
     "output_type": "stream",
     "text": [
      "Saving the dataset (3/3 shards): 100%|██████████| 11787/11787 [00:02<00:00, 3946.02 examples/s]\n"
     ]
    }
   ],
   "source": [
    "ds.save_to_disk(save_dir)"
   ]
  },
  {
   "cell_type": "code",
   "execution_count": 49,
   "metadata": {},
   "outputs": [
    {
     "name": "stderr",
     "output_type": "stream",
     "text": [
      "Uploading the dataset shards:   0%|          | 0/3 [00:00<?, ?it/s]\n",
      "\u001b[A\n",
      "\u001b[A\n",
      "\u001b[A\n",
      "\u001b[A\n",
      "Map: 100%|██████████| 3929/3929 [00:00<00:00, 4752.07 examples/s]\n",
      "\n",
      "\u001b[A\n",
      "\u001b[A\n",
      "\u001b[A\n",
      "\u001b[A\n",
      "\u001b[A\n",
      "Creating parquet from Arrow format: 100%|██████████| 40/40 [00:00<00:00, 58.74ba/s]\n",
      "Uploading the dataset shards:  33%|███▎      | 1/3 [01:32<03:04, 92.35s/it]\n",
      "\u001b[A\n",
      "\u001b[A\n",
      "\u001b[A\n",
      "\u001b[A\n",
      "Map: 100%|██████████| 3929/3929 [00:00<00:00, 5939.08 examples/s]\n",
      "\n",
      "\u001b[A\n",
      "\u001b[A\n",
      "\u001b[A\n",
      "\u001b[A\n",
      "\u001b[A\n",
      "Creating parquet from Arrow format: 100%|██████████| 40/40 [00:00<00:00, 58.09ba/s]\n",
      "Uploading the dataset shards:  67%|██████▋   | 2/3 [03:05<01:32, 92.72s/it]\n",
      "\u001b[A\n",
      "\u001b[A\n",
      "\u001b[A\n",
      "\u001b[A\n",
      "Map: 100%|██████████| 3929/3929 [00:00<00:00, 6100.98 examples/s]\n",
      "\n",
      "\u001b[A\n",
      "\u001b[A\n",
      "\u001b[A\n",
      "\u001b[A\n",
      "\u001b[A\n",
      "Creating parquet from Arrow format: 100%|██████████| 40/40 [00:00<00:00, 61.78ba/s]\n",
      "Uploading the dataset shards: 100%|██████████| 3/3 [04:35<00:00, 91.69s/it]\n",
      "README.md: 100%|██████████| 21.0/21.0 [00:00<?, ?B/s]\n",
      "c:\\Python\\Python311\\Lib\\site-packages\\huggingface_hub\\file_download.py:147: UserWarning: `huggingface_hub` cache-system uses symlinks by default to efficiently store duplicated files but your machine does not support them in C:\\Users\\wwang\\.cache\\huggingface\\hub. Caching files will still work but in a degraded version that might require more space on your disk. This warning can be disabled by setting the `HF_HUB_DISABLE_SYMLINKS_WARNING` environment variable. For more details, see https://huggingface.co/docs/huggingface_hub/how-to-cache#limitations.\n",
      "To support symlinks on Windows, you either need to activate Developer Mode or to run Python as an administrator. In order to see activate developer mode, see this article: https://docs.microsoft.com/en-us/windows/apps/get-started/enable-your-device-for-development\n",
      "  warnings.warn(message)\n"
     ]
    }
   ],
   "source": [
    "ds.push_to_hub(\"weiywang/CUB_200_2011_CAP\")"
   ]
  }
 ],
 "metadata": {
  "kernelspec": {
   "display_name": "Python 3",
   "language": "python",
   "name": "python3"
  },
  "language_info": {
   "codemirror_mode": {
    "name": "ipython",
    "version": 3
   },
   "file_extension": ".py",
   "mimetype": "text/x-python",
   "name": "python",
   "nbconvert_exporter": "python",
   "pygments_lexer": "ipython3",
   "version": "3.11.7"
  }
 },
 "nbformat": 4,
 "nbformat_minor": 2
}
