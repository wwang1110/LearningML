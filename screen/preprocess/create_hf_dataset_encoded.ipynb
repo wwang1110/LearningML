{
 "cells": [
  {
   "cell_type": "code",
   "execution_count": 7,
   "metadata": {},
   "outputs": [],
   "source": [
    "%reset -f"
   ]
  },
  {
   "cell_type": "code",
   "execution_count": 2,
   "metadata": {},
   "outputs": [],
   "source": [
    "import os\n",
    "from PIL import Image as PILImage\n",
    "from tqdm import tqdm\n",
    "from IPython.display import display\n",
    "from datasets import Dataset\n",
    "import torch\n",
    "from transformers import AutoTokenizer\n",
    "from transformers import CLIPProcessor\n",
    "from torchvision import transforms"
   ]
  },
  {
   "cell_type": "code",
   "execution_count": 18,
   "metadata": {},
   "outputs": [],
   "source": [
    "raw_data_path = 'D:/Adams/dataset/CUB_200_2011_CAP'\n",
    "save_dir = 'D:/Adams/CUB_200_2011_Encoded/'"
   ]
  },
  {
   "cell_type": "code",
   "execution_count": 16,
   "metadata": {},
   "outputs": [],
   "source": [
    "\n",
    "def raw_data_gen(raw_data_path):\n",
    "    max_token_length = 10\n",
    "    eos_token_id = 49407\n",
    "    clip_model_name = \"openai/clip-vit-base-patch32\"\n",
    "    roberta_model_name = \"xlm-roberta-base\"\n",
    "    roberta_tokenizer = AutoTokenizer.from_pretrained(roberta_model_name)\n",
    "    clip_processor = CLIPProcessor.from_pretrained(clip_model_name)\n",
    "\n",
    "    for img_file in tqdm(os.listdir(raw_data_path)):\n",
    "        if img_file.endswith(\".png\") or img_file.endswith(\".jpg\"):\n",
    "            metadata_file = img_file.replace(\".png\", \".txt\").replace(\".jpg\", \".txt\")\n",
    "            if os.path.exists(os.path.join(raw_data_path, metadata_file)):\n",
    "                action_id = img_file.replace(\".png\", \"\").replace(\".jpg\", \"\")\n",
    "                wds = action_id.split(\"_\")[:-2]\n",
    "                label = ' '.join(wds)\n",
    "\n",
    "                pil_image = PILImage.open(os.path.join(raw_data_path, img_file))\n",
    "                with open(os.path.join(raw_data_path, metadata_file), 'r') as f:\n",
    "                    text = f.read().replace('\\n', '')\n",
    "\n",
    "                inputs = clip_processor(text=[label], images=pil_image, return_tensors=\"pt\", padding=True, truncation=True, max_length=10)\n",
    "                encoded_text = roberta_tokenizer(text, padding='max_length', truncation=True, max_length=512, return_tensors=\"pt\")\n",
    "\n",
    "                item = {}\n",
    "                item['input_ids'] = torch.cat((inputs['input_ids'][0],torch.full((max_token_length-len(inputs['input_ids'][0]),), eos_token_id)), dim=0)\n",
    "                item['attention_mask'] = torch.cat((inputs['attention_mask'][0],torch.zeros((max_token_length-len(inputs['attention_mask'][0]),))), dim=0)\n",
    "                item['pixel_values'] = inputs['pixel_values'][0]                \n",
    "                item['encoded_metadata'] = encoded_text['input_ids'][0]\n",
    "                item['metadata_attention_mask'] = encoded_text['attention_mask'][0]\n",
    "                item['labels'] = item['input_ids']\n",
    "                yield item"
   ]
  },
  {
   "cell_type": "code",
   "execution_count": 17,
   "metadata": {},
   "outputs": [
    {
     "name": "stderr",
     "output_type": "stream",
     "text": [
      "100%|██████████| 23574/23574 [01:31<00:00, 257.28it/s]examples/s]\n",
      "Generating train split: 11787 examples [01:33, 126.10 examples/s]\n"
     ]
    }
   ],
   "source": [
    "ds = Dataset.from_generator(lambda: raw_data_gen(raw_data_path))"
   ]
  },
  {
   "cell_type": "code",
   "execution_count": null,
   "metadata": {},
   "outputs": [],
   "source": [
    "ds[0]\n",
    "#ds.cache_files"
   ]
  },
  {
   "cell_type": "code",
   "execution_count": 20,
   "metadata": {},
   "outputs": [
    {
     "name": "stderr",
     "output_type": "stream",
     "text": [
      "Saving the dataset (15/15 shards): 100%|██████████| 11787/11787 [00:07<00:00, 1616.67 examples/s]\n"
     ]
    }
   ],
   "source": [
    "ds.save_to_disk(save_dir)"
   ]
  },
  {
   "cell_type": "code",
   "execution_count": 21,
   "metadata": {},
   "outputs": [
    {
     "name": "stderr",
     "output_type": "stream",
     "text": [
      "Creating parquet from Arrow format: 100%|██████████| 1/1 [00:02<00:00,  2.63s/ba]\n",
      "Uploading the dataset shards:   7%|▋         | 1/15 [00:35<08:14, 35.29s/it]"
     ]
    }
   ],
   "source": [
    "ds.push_to_hub(\"weiywang/CUB_200_2011_Encoded\")"
   ]
  }
 ],
 "metadata": {
  "kernelspec": {
   "display_name": "Python 3",
   "language": "python",
   "name": "python3"
  },
  "language_info": {
   "codemirror_mode": {
    "name": "ipython",
    "version": 3
   },
   "file_extension": ".py",
   "mimetype": "text/x-python",
   "name": "python",
   "nbconvert_exporter": "python",
   "pygments_lexer": "ipython3",
   "version": "3.11.7"
  }
 },
 "nbformat": 4,
 "nbformat_minor": 2
}
